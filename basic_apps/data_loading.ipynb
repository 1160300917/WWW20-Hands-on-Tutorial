{
 "cells": [
  {
   "cell_type": "code",
   "execution_count": null,
   "metadata": {},
   "outputs": [],
   "source": [
    "import numpy as np\n",
    "from scipy import sparse as spsp"
   ]
  },
  {
   "cell_type": "code",
   "execution_count": null,
   "metadata": {},
   "outputs": [],
   "source": [
    "import pandas as pd"
   ]
  },
  {
   "cell_type": "code",
   "execution_count": null,
   "metadata": {},
   "outputs": [],
   "source": [
    "node_data = pd.read_csv('node_data.csv', header=None)"
   ]
  },
  {
   "cell_type": "code",
   "execution_count": null,
   "metadata": {},
   "outputs": [],
   "source": [
    "edges = pd.read_csv('edges.csv', header=None)"
   ]
  },
  {
   "cell_type": "markdown",
   "metadata": {},
   "source": [
    "## Construct a homogeneous graph"
   ]
  },
  {
   "cell_type": "code",
   "execution_count": null,
   "metadata": {},
   "outputs": [],
   "source": [
    "import dgl\n",
    "import torch\n",
    "\n",
    "num_edges = edges.shape[0]\n",
    "spm = spsp.coo_matrix((np.ones(num_edges), (edges[0], edges[1])))\n",
    "g = dgl.DGLGraph(spm, readonly=True)\n",
    "ndata1 = np.expand_dims(np.array(node_data[1]), 1)\n",
    "ndata2 = np.expand_dims(np.array(node_data[2]), 1)\n",
    "ndata = np.concatenate([ndata1, ndata2], 1)\n",
    "g.ndata['feats'] = torch.tensor(ndata)\n",
    "g.edata['rel'] = torch.tensor(np.array(edges[2]))"
   ]
  },
  {
   "cell_type": "markdown",
   "metadata": {},
   "source": [
    "## Construct a heterogeneous graph"
   ]
  },
  {
   "cell_type": "code",
   "execution_count": null,
   "metadata": {},
   "outputs": [],
   "source": [
    "rel = np.array(edges[2])\n",
    "spm_dict = {}\n",
    "src = edges[0][rel==0]\n",
    "dst = edges[1][rel==0]\n",
    "spm_dict['a', '0', 'a'] = spsp.coo_matrix((np.ones(len(src)), (src, dst)))\n",
    "\n",
    "src = edges[0][rel==1]\n",
    "dst = edges[1][rel==1]\n",
    "spm_dict['a', '1', 'a'] = spsp.coo_matrix((np.ones(len(src)), (src, dst)))\n",
    "\n",
    "src = edges[0][rel==2]\n",
    "dst = edges[1][rel==2]\n",
    "spm_dict['a', '2', 'a'] = spsp.coo_matrix((np.ones(len(src)), (src, dst)))\n",
    "\n",
    "g = dgl.heterograph(spm_dict)\n",
    "\n",
    "ndata1 = np.expand_dims(np.array(node_data[1]), 1)\n",
    "ndata2 = np.expand_dims(np.array(node_data[2]), 1)\n",
    "ndata = np.concatenate([ndata1, ndata2], 1)\n",
    "g.ndata['feats'] = torch.tensor(ndata)"
   ]
  },
  {
   "cell_type": "code",
   "execution_count": null,
   "metadata": {},
   "outputs": [],
   "source": []
  }
 ],
 "metadata": {
  "kernelspec": {
   "display_name": "Python 3",
   "language": "python",
   "name": "python3"
  },
  "language_info": {
   "codemirror_mode": {
    "name": "ipython",
    "version": 3
   },
   "file_extension": ".py",
   "mimetype": "text/x-python",
   "name": "python",
   "nbconvert_exporter": "python",
   "pygments_lexer": "ipython3",
   "version": "3.7.5"
  }
 },
 "nbformat": 4,
 "nbformat_minor": 2
}
