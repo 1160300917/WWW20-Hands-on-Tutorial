{
 "cells": [
  {
   "cell_type": "code",
   "execution_count": 1,
   "metadata": {},
   "outputs": [],
   "source": [
    "import pandas as pd\n",
    "from scipy import sparse as spsp\n",
    "import numpy as np"
   ]
  },
  {
   "cell_type": "code",
   "execution_count": 24,
   "metadata": {},
   "outputs": [],
   "source": [
    "data_dir = 'Marriott'\n",
    "\n",
    "i2i = pd.read_csv(data_dir + '/i2inbrs11.ijv', delim_whitespace=True, header=None)"
   ]
  },
  {
   "cell_type": "code",
   "execution_count": 25,
   "metadata": {},
   "outputs": [],
   "source": [
    "row = i2i[0]\n",
    "col = i2i[1]\n",
    "val = i2i[2]\n",
    "i2i_spm = spsp.coo_matrix((val, (row, col)))"
   ]
  },
  {
   "cell_type": "code",
   "execution_count": 26,
   "metadata": {},
   "outputs": [],
   "source": [
    "def load_txt_csr(file_name):\n",
    "    row = []\n",
    "    col = []\n",
    "    with open(file_name, 'r') as infile:\n",
    "        row_id = 0\n",
    "        for line in infile:\n",
    "            strs = line.split()\n",
    "            col_idx = list(map(lambda s: int(s), strs[0::2]))\n",
    "            row.extend([row_id] * len(col_idx))\n",
    "            col.extend(col_idx)\n",
    "            row_id += 1\n",
    "    row = np.array(row, dtype=np.int64)\n",
    "    col = np.array(col, dtype=np.int64)\n",
    "    return spsp.coo_matrix((np.ones(len(row)), (row, col)))\n",
    "spm = load_txt_csr(data_dir + '/train.csr')"
   ]
  },
  {
   "cell_type": "code",
   "execution_count": 27,
   "metadata": {},
   "outputs": [
    {
     "data": {
      "text/plain": [
       "(2743661, 7649)"
      ]
     },
     "execution_count": 27,
     "metadata": {},
     "output_type": "execute_result"
    }
   ],
   "source": [
    "spm.shape"
   ]
  },
  {
   "cell_type": "code",
   "execution_count": 28,
   "metadata": {},
   "outputs": [],
   "source": [
    "def coverage(ctx, targets):\n",
    "    u_ctx = np.squeeze(np.array(np.sum(ctx, axis=0) > 0))\n",
    "    u_target = np.squeeze(np.array(np.sum(targets, axis=0) > 0))\n",
    "    return np.sum(u_ctx * u_target) / np.sum(u_ctx)\n",
    "\n",
    "from sklearn import metrics\n",
    "def similarity(targets):\n",
    "    sim = metrics.pairwise.cosine_similarity(targets)\n",
    "    return np.mean(sim)"
   ]
  },
  {
   "cell_type": "code",
   "execution_count": 29,
   "metadata": {},
   "outputs": [
    {
     "name": "stdout",
     "output_type": "stream",
     "text": [
      "There are 420884 recommendations\n",
      "There are 7341 unique recommendations\n",
      "There are 420884 recommendations\n",
      "There are 197561 unique recommendations\n",
      "There are 222035 recommendations\n",
      "There are 202127 unique recommendations\n"
     ]
    }
   ],
   "source": [
    "def load_topk_pred(file_name, ctx_size, k):\n",
    "    ctxs = []\n",
    "    preds = []\n",
    "    with open(file_name, 'r') as infile:\n",
    "        for line in infile:\n",
    "            strs = line.split()\n",
    "            if strs[0].startswith('row'):\n",
    "                ctx = strs[2:]\n",
    "                assert len(ctx) == ctx_size\n",
    "                ctxs.append(ctx)\n",
    "            elif strs[0].startswith('recommend'):\n",
    "                pred = list(map(lambda s: int(s), strs[1:]))\n",
    "                preds.append(pred)\n",
    "    print('There are {} recommendations'.format(len(ctxs)))\n",
    "    ctx_preds = {}\n",
    "    for ctx, pred in zip(ctxs, preds):\n",
    "        key = ' '.join(ctx)\n",
    "        ctx_preds[key] = pred\n",
    "    print('There are {} unique recommendations'.format(len(ctx_preds)))\n",
    "    ctxs = []\n",
    "    preds = []\n",
    "    for ctx_str, pred in ctx_preds.items():\n",
    "        ctx = list(map(lambda s: int(s), ctx_str.split()))\n",
    "        ctxs.append(ctx)\n",
    "        preds.append(pred)\n",
    "    return ctxs, preds\n",
    "\n",
    "ctxs1, preds1 = load_topk_pred(data_dir + '/ctx1_hits10.txt', 1, 10)\n",
    "ctxs2, preds2 = load_topk_pred(data_dir + '/ctx2_hits10.txt', 2, 10)\n",
    "ctxs3, preds3 = load_topk_pred(data_dir + '/ctx3_hits10.txt', 3, 10)"
   ]
  },
  {
   "cell_type": "code",
   "execution_count": null,
   "metadata": {},
   "outputs": [
    {
     "name": "stdout",
     "output_type": "stream",
     "text": [
      "0.7010834868274863 0.19721751091103693\n"
     ]
    }
   ],
   "source": [
    "item_row_spm = spm.transpose().tocsr()\n",
    "coverages = []\n",
    "similarities = []\n",
    "for ctx, pred in zip(ctxs1, preds1):\n",
    "    if len(pred) == 0:\n",
    "        continue\n",
    "    coverages.append(coverage(item_row_spm[ctx], item_row_spm[pred]))\n",
    "    similarities.append(similarity(item_row_spm[pred]))\n",
    "print(np.mean(coverages), np.mean(similarities))\n",
    "\n",
    "coverages = []\n",
    "for ctx, pred in zip(ctxs2, preds2):\n",
    "    if len(pred) == 0:\n",
    "        continue\n",
    "    coverages.append(coverage(item_row_spm[ctx], item_row_spm[pred]))\n",
    "    similarities.append(similarity(item_row_spm[pred]))\n",
    "print(np.mean(coverages), np.mean(similarities))\n",
    "\n",
    "coverages = []\n",
    "for ctx, pred in zip(ctxs3, preds3):\n",
    "    if len(pred) == 0:\n",
    "        continue\n",
    "    coverages.append(coverage(item_row_spm[ctx], item_row_spm[pred]))\n",
    "    similarities.append(similarity(item_row_spm[pred]))\n",
    "print(np.mean(coverages), np.mean(similarities))"
   ]
  },
  {
   "cell_type": "code",
   "execution_count": null,
   "metadata": {},
   "outputs": [],
   "source": []
  }
 ],
 "metadata": {
  "kernelspec": {
   "display_name": "Python 3",
   "language": "python",
   "name": "python3"
  },
  "language_info": {
   "codemirror_mode": {
    "name": "ipython",
    "version": 3
   },
   "file_extension": ".py",
   "mimetype": "text/x-python",
   "name": "python",
   "nbconvert_exporter": "python",
   "pygments_lexer": "ipython3",
   "version": "3.5.2"
  }
 },
 "nbformat": 4,
 "nbformat_minor": 2
}
