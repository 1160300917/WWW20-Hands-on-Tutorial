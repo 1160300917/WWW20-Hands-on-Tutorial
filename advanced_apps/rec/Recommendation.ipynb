{
 "cells": [
  {
   "cell_type": "markdown",
   "metadata": {},
   "source": [
    "# Problem setting\n",
    "\n",
    "In this tutorial, we demonstrate how graph neural networks can be used for recommendation. Here we focus on item-based recommendation model. This method in this tutorial recommends items that are similar to the ones purchased by the user. We demonstrate the recommendation model on the MovieLens dataset."
   ]
  },
  {
   "cell_type": "markdown",
   "metadata": {},
   "source": [
    "# Get started\n",
    "\n",
    "DGL can be used with different deep learning frameworks. Currently, DGL can be used with Pytorch and MXNet. Here, we show how DGL works with Pytorch."
   ]
  },
  {
   "cell_type": "code",
   "execution_count": 1,
   "metadata": {},
   "outputs": [],
   "source": [
    "import torch\n",
    "import torch.nn as nn\n",
    "import torch.nn.functional as F"
   ]
  },
  {
   "cell_type": "markdown",
   "metadata": {},
   "source": [
    "When we load DGL, we need to set the DGL backend for one of the deep learning frameworks. Because this tutorial develops models in Pytorch, we have to set the DGL backend to Pytorch."
   ]
  },
  {
   "cell_type": "code",
   "execution_count": 2,
   "metadata": {},
   "outputs": [],
   "source": [
    "import dgl\n",
    "from dgl import DGLGraph\n",
    "\n",
    "# Load Pytorch as backend\n",
    "dgl.load_backend('pytorch')"
   ]
  },
  {
   "cell_type": "markdown",
   "metadata": {},
   "source": [
    "Load the rest of necessary libraries."
   ]
  },
  {
   "cell_type": "code",
   "execution_count": 3,
   "metadata": {},
   "outputs": [],
   "source": [
    "import numpy as np\n",
    "import pandas as pd\n",
    "from scipy import stats\n",
    "from scipy import sparse as spsp"
   ]
  },
  {
   "cell_type": "markdown",
   "metadata": {},
   "source": [
    "# Dataset\n",
    "\n",
    "We use the MoiveLens dataset for demonstration because it is commonly used for recommendation models. In this dataset, there are two types of nodes: users and movies. The movie nodes have three attributes: year, title and genre. There are ratings between user nodes and movie nodes. Each rating has a timestamp. In our recommendation model, we don't consider ratings and timestamps.\n",
    "\n",
    "**Note**: It is not necessarily the best dataset to demonstrate the power of GNN for recommendation. We have prepared the dataset to simplify the demonstration.\n",
    "\n",
    "To run the data preprocessing script, a user needs to download the English dictionary of the stanfordnlp package first. However, the following command only needs to run once."
   ]
  },
  {
   "cell_type": "code",
   "execution_count": null,
   "metadata": {},
   "outputs": [],
   "source": [
    "# Please uncomment the two commands when the tutorial is run for the first time.\n",
    "#import stanfordnlp\n",
    "#stanfordnlp.download('en')"
   ]
  },
  {
   "cell_type": "markdown",
   "metadata": {},
   "source": [
    "Load the MovieLens dataset."
   ]
  },
  {
   "cell_type": "code",
   "execution_count": null,
   "metadata": {
    "scrolled": false
   },
   "outputs": [],
   "source": [
    "from movielens import MovieLens\n",
    "data = MovieLens('.')"
   ]
  },
  {
   "cell_type": "markdown",
   "metadata": {},
   "source": [
    "Calculate some statistics of the dataset."
   ]
  },
  {
   "cell_type": "code",
   "execution_count": null,
   "metadata": {},
   "outputs": [],
   "source": [
    "ratings = data.ratings\n",
    "user_id = np.array(ratings['user_idx'])\n",
    "movie_id = np.array(ratings['movie_idx'])\n",
    "user_movie_spm = spsp.coo_matrix((np.ones((len(user_id),)), (user_id, movie_id)))\n",
    "num_users, num_movies = user_movie_spm.shape\n",
    "print('#user-movie iterations:', len(movie_id))\n",
    "print('#users:', num_users)\n",
    "print('#movies:', num_movies)"
   ]
  },
  {
   "cell_type": "markdown",
   "metadata": {},
   "source": [
    "We split the dataset into a training set and a testing set"
   ]
  },
  {
   "cell_type": "code",
   "execution_count": null,
   "metadata": {},
   "outputs": [],
   "source": [
    "ratings_train = ratings[~(ratings['valid_mask'] | ratings['test_mask'])]\n",
    "user_latest_item_indices = (\n",
    "        ratings_train.groupby('user_id')['timestamp'].transform(pd.Series.max) ==\n",
    "        ratings_train['timestamp'])\n",
    "user_latest_item = ratings_train[user_latest_item_indices]\n",
    "user_latest_item = dict(\n",
    "        zip(user_latest_item['user_idx'].values, user_latest_item['movie_idx'].values))"
   ]
  },
  {
   "cell_type": "markdown",
   "metadata": {},
   "source": [
    "Construct the training, validation and testing dataset"
   ]
  },
  {
   "cell_type": "code",
   "execution_count": null,
   "metadata": {},
   "outputs": [],
   "source": [
    "# The training dataset\n",
    "user_id = np.array(ratings_train['user_idx'])\n",
    "movie_id = np.array(ratings_train['movie_idx'])\n",
    "user_movie_spm = spsp.coo_matrix((np.ones((len(user_id),)), (user_id, movie_id)))\n",
    "assert num_users == user_movie_spm.shape[0]\n",
    "assert num_movies == user_movie_spm.shape[1]\n",
    "train_size = len(user_id)\n",
    "print('#training size:', train_size)\n",
    "\n",
    "# The validation and testing dataset\n",
    "users_valid = ratings[ratings['valid_mask']]['user_idx'].values\n",
    "movies_valid = ratings[ratings['valid_mask']]['movie_idx'].values\n",
    "users_test = ratings[ratings['test_mask']]['user_idx'].values\n",
    "movies_test = ratings[ratings['test_mask']]['movie_idx'].values\n",
    "valid_size = len(users_valid)\n",
    "test_size = len(users_test)"
   ]
  },
  {
   "cell_type": "markdown",
   "metadata": {},
   "source": [
    "## Load MovieLens from pickle"
   ]
  },
  {
   "cell_type": "code",
   "execution_count": 118,
   "metadata": {},
   "outputs": [],
   "source": [
    "import pickle\n",
    "user_movie_spm = pickle.load(open('movielens/movielens_orig_train.pkl', 'rb'))\n",
    "\n",
    "num_users = user_movie_spm.shape[0]\n",
    "num_movies = user_movie_spm.shape[1]"
   ]
  },
  {
   "cell_type": "code",
   "execution_count": 119,
   "metadata": {},
   "outputs": [
    {
     "name": "stdout",
     "output_type": "stream",
     "text": [
      "#feats: 4132\n"
     ]
    }
   ],
   "source": [
    "features = pickle.load(open('movielens/movielens_features.pkl', 'rb'))\n",
    "valid_set, test_set = pickle.load(open('movielens/movielens_eval.pkl', 'rb'))\n",
    "neg_valid, neg_test = pickle.load(open('movielens/movielens_neg.pkl', 'rb'))\n",
    "\n",
    "users_valid = np.arange(num_users)\n",
    "movies_valid = valid_set\n",
    "users_test = np.arange(num_users)\n",
    "movies_test = test_set\n",
    "\n",
    "movie_popularity = user_movie_spm.transpose().dot(np.ones(shape=(num_users)))\n",
    "# We need to rescale the values\n",
    "movie_popularity = torch.tensor(movie_popularity / np.max(movie_popularity), dtype=torch.float32).unsqueeze(1)\n",
    "\n",
    "u, s, vt = spsp.linalg.svds(user_movie_spm)\n",
    "v = torch.tensor(vt.transpose(), dtype=torch.float32)\n",
    "v = v * torch.tensor(np.sqrt(s).transpose(), dtype=torch.float32)\n",
    "\n",
    "features = torch.cat([features, movie_popularity, v], 1)\n",
    "#one_hot = torch.tensor(np.diag(np.ones(shape=(num_movies))), dtype=torch.float32)\n",
    "#features = torch.cat([features, one_hot], 1)\n",
    "in_feats = features.shape[1]\n",
    "print('#feats:', in_feats)"
   ]
  },
  {
   "cell_type": "code",
   "execution_count": 120,
   "metadata": {},
   "outputs": [],
   "source": [
    "spm = user_movie_spm.tocsr()\n",
    "user_latest_item = np.zeros((num_users), dtype=np.int64)\n",
    "for i in range(num_users):\n",
    "    row_start = spm.indptr[i]\n",
    "    row_end = spm.indptr[i+1]\n",
    "    user_latest_item[i] = np.random.choice(spm.indices[row_start:row_end])"
   ]
  },
  {
   "cell_type": "code",
   "execution_count": 121,
   "metadata": {},
   "outputs": [
    {
     "name": "stdout",
     "output_type": "stream",
     "text": [
      "1741\n",
      "6040\n"
     ]
    }
   ],
   "source": [
    "print(len(np.unique(user_latest_item)))\n",
    "print(len(user_latest_item))"
   ]
  },
  {
   "cell_type": "markdown",
   "metadata": {},
   "source": [
    "Down sample user-movie pairs."
   ]
  },
  {
   "cell_type": "code",
   "execution_count": 122,
   "metadata": {},
   "outputs": [
    {
     "name": "stdout",
     "output_type": "stream",
     "text": [
      "#samples: 48294\n",
      "(6040, 3702)\n"
     ]
    },
    {
     "name": "stderr",
     "output_type": "stream",
     "text": [
      "/usr/local/lib/python3.5/dist-packages/ipykernel_launcher.py:10: RuntimeWarning: divide by zero encountered in true_divide\n",
      "  # Remove the CWD from sys.path while we load stuff.\n"
     ]
    }
   ],
   "source": [
    "downsample_factor = 1e-6\n",
    "\n",
    "def downsample(user_movie_spm):\n",
    "    user_id = user_movie_spm.row\n",
    "    movie_id = user_movie_spm.col\n",
    "    spm_t = user_movie_spm.transpose()\n",
    "    movie_deg = spm_t.dot(np.ones((num_users,)))\n",
    "    movie_ratio = movie_deg / np.sum(movie_deg)\n",
    "    # 1e-6 is a hyperparameter for this dataset.\n",
    "    movie_sample_prob = 1 - np.maximum(1 - np.sqrt(downsample_factor / movie_ratio), 0)\n",
    "    sample_prob = movie_sample_prob[movie_id]\n",
    "    sample = np.random.uniform(size=(len(movie_id),))\n",
    "    user_id = user_id[sample_prob > sample]\n",
    "    movie_id = movie_id[sample_prob > sample]\n",
    "    print('#samples:', len(user_id))\n",
    "    user_movie_spm = spsp.coo_matrix((np.ones((len(user_id),)), (user_id, movie_id)))\n",
    "    print(user_movie_spm.shape)\n",
    "    return user_movie_spm\n",
    "\n",
    "user_movie_spm = downsample(user_movie_spm)"
   ]
  },
  {
   "cell_type": "markdown",
   "metadata": {},
   "source": [
    "# The recommendation model\n",
    "\n",
    "At large, the model first learns item embeddings from the user-item interaction dataset and use the item embeddings to recommend users similar items they have purchased. To learn item embeddings, we first need to construct an item similarity graph and train GNN on the item graph.\n",
    "\n",
    "There are many ways of constructing the item similarity graph. Here we use the [SLIM model](https://dl.acm.org/citation.cfm?id=2118303) to learn item similarity and use the learned result to construct the item graph. The resulting graph will have an edge between two items if they are similar and the edge has a weight that represents the similarity score.\n",
    "\n",
    "After the item similarity graph is constructed, we run a GNN model on it and use the vertex connectivity as the training signal to train the GNN model. The GNN training procedure is very similar to the link prediction task in [the previous section](https://github.com/zheng-da/DGL_devday_tutorial/blob/master/BasicTasks_pytorch.ipynb)."
   ]
  },
  {
   "cell_type": "markdown",
   "metadata": {},
   "source": [
    "## Construct the movie graph with SLIM\n",
    "SLIM is an item-based recommendation model. When training SLIM on a user-item dataset, it learns an item similarity graph. This similarity graph is the item graph we construct for the GNN model.\n",
    "\n",
    "Please follow the instruction on the [SLIM github repo](https://github.com/KarypisLab/SLIM) to install SLIM.\n",
    "\n",
    "The SLIM only needs to run once and can be saved on the disk for future experiments."
   ]
  },
  {
   "cell_type": "code",
   "execution_count": 142,
   "metadata": {},
   "outputs": [],
   "source": [
    "from SLIM import SLIM, SLIMatrix\n",
    "from slim_load import read_csr\n",
    "\n",
    "def gen_slim_graph(user_movie_spm):\n",
    "    model = SLIM()\n",
    "    params = {'algo': 'cd', 'nthreads': 32, 'l1r': 1, 'l2r': 1.0}\n",
    "    trainmat = SLIMatrix(user_movie_spm.tocsr())\n",
    "    model.train(params, trainmat)\n",
    "    model.save_model(modelfname='slim_model.csr', mapfname='slim_map.csr')\n",
    "\n",
    "    # Load the SLIM similarity matrix into DGL. We store the vertex similarity as edge data on DGL.\n",
    "    movie_spm = read_csr('slim_model.csr')\n",
    "    print('SLIM graph has #edges:', movie_spm.nnz)\n",
    "    print('most similar:', np.max(movie_spm.data))\n",
    "    print('most unsimilar:', np.min(movie_spm.data))\n",
    "\n",
    "    # Generate DGLGraph\n",
    "    g = dgl.DGLGraph(movie_spm, readonly=True)\n",
    "    g.edata['similarity'] = torch.tensor(movie_spm.data, dtype=torch.float32)\n",
    "    return g"
   ]
  },
  {
   "cell_type": "markdown",
   "metadata": {},
   "source": [
    "## Construct the co-occurance graph"
   ]
  },
  {
   "cell_type": "code",
   "execution_count": 124,
   "metadata": {},
   "outputs": [],
   "source": [
    "def gen_cooccur_graph(user_movie_spm):\n",
    "    #user_movie_spm = downsample(user_movie_spm)\n",
    "    movie_spm = np.dot(user_movie_spm.transpose(), user_movie_spm)\n",
    "    #dense_movie = np.sort(movie_spm.todense())\n",
    "    #topk_movie = dense_movie[:,-50]\n",
    "    #movie_spm1 = movie_spm >= topk_movie\n",
    "    \n",
    "    g = dgl.DGLGraph(movie_spm, readonly=True)\n",
    "    g.edata['similarity'] = torch.tensor(movie_spm.data, dtype=torch.float32)\n",
    "    return g"
   ]
  },
  {
   "cell_type": "markdown",
   "metadata": {},
   "source": [
    "## Construct the cosine-similarity graph"
   ]
  },
  {
   "cell_type": "code",
   "execution_count": 125,
   "metadata": {},
   "outputs": [],
   "source": [
    "from sklearn.metrics.pairwise import cosine_similarity\n",
    "topk = 50\n",
    "def gen_cosine_graph(user_movie_spm):\n",
    "    movie_spm = cosine_similarity(user_movie_spm.transpose(),dense_output=False)\n",
    "    topk_movie_spm = movie_spm.multiply(movie_spm > 0.3)\n",
    "    #dense_movie = np.sort(movie_spm.todense())\n",
    "    #topk_movie = dense_movie[:,-topk]\n",
    "    #topk_movie_spm = movie_spm > topk_movie\n",
    "    #topk_movie_spm = spsp.coo_matrix(topk_movie_spm)\n",
    "    #print(type(topk_movie_spm))\n",
    "    #topk_movie_spm = movie_spm.multiply(topk_movie_spm)\n",
    "    g = dgl.DGLGraph(topk_movie_spm, readonly=True)\n",
    "    g.edata['similarity'] = torch.tensor(topk_movie_spm.data, dtype=torch.float32)\n",
    "    return g"
   ]
  },
  {
   "cell_type": "markdown",
   "metadata": {},
   "source": [
    "## Generate graphs for training"
   ]
  },
  {
   "cell_type": "code",
   "execution_count": 145,
   "metadata": {},
   "outputs": [
    {
     "name": "stdout",
     "output_type": "stream",
     "text": [
      "co-occur graph has #edges: 1097853\n"
     ]
    }
   ],
   "source": [
    "conv_g = gen_cosine_graph(user_movie_spm)\n",
    "loss_g = gen_cooccur_graph(user_movie_spm)\n",
    "print('co-occur graph has #edges:', loss_g.number_of_edges())"
   ]
  },
  {
   "cell_type": "code",
   "execution_count": 146,
   "metadata": {},
   "outputs": [
    {
     "data": {
      "text/plain": [
       "22393"
      ]
     },
     "execution_count": 146,
     "metadata": {},
     "output_type": "execute_result"
    }
   ],
   "source": [
    "conv_g.number_of_edges()"
   ]
  },
  {
   "cell_type": "markdown",
   "metadata": {},
   "source": [
    "Construct the item features."
   ]
  },
  {
   "cell_type": "code",
   "execution_count": null,
   "metadata": {},
   "outputs": [],
   "source": [
    "year = np.expand_dims(data.movie_data['year'], axis=1)\n",
    "genre = data.movie_data['genre']\n",
    "title = data.movie_data['title']\n",
    "features = torch.tensor(np.concatenate((genre, title), axis=1), dtype=torch.float32)\n",
    "print('#features:', features.shape[1])\n",
    "in_feats = features.shape[1]"
   ]
  },
  {
   "cell_type": "markdown",
   "metadata": {},
   "source": [
    "## GNN models\n",
    "\n",
    "We run GNN on the item graph to compute item embeddings. In this tutorial, we use a customized [GraphSage](https://cs.stanford.edu/people/jure/pubs/graphsage-nips17.pdf) model to compute node embeddings. The original GraphSage performs the following computation on every node $v$ in the graph:\n",
    "\n",
    "$$h_{N(v)}^{(l)} \\gets AGGREGATE_k({h_u^{(l-1)}, \\forall u \\in N(v)})$$\n",
    "$$h_v^{(l)} \\gets \\sigma(W^k \\cdot CONCAT(h_v^{(l-1)}, h_{N(v)}^{(l)})),$$\n",
    "\n",
    "where $N(v)$ is the neighborhood of node $v$ and $l$ is the layer Id.\n",
    "\n",
    "The original GraphSage model treats each neighbor equally. However, the SLIM model learns the item similarity based on the user-item iteration. The GNN model should take the similarity into account. Thus, we customize the GraphSage model in the following fashion. Instead of aggregating all neighbors equally, we aggregate neighbors embeddings rescaled by the similarity on the edges. Thus, the aggregation step is defined as follows:\n",
    "\n",
    "$$h_{N(v)}^{(l)} \\gets \\Sigma_{u \\in N(v)}({h_u^{(l-1)} * s_{uv}}),$$\n",
    "\n",
    "where $s_{uv}$ is the similarity score between two vertices $u$ and $v$.\n",
    "\n",
    "The GNN model has multiple layers. In each layer, a vertex accesses its direct neighbors. When we stack $k$ layers in a model, a node $v$ access neighbors within $k$ hops. The output of the GNN model is node embeddings that represent the nodes and all information in the k-hop neighborhood.\n",
    "\n",
    "<img src=\"https://github.com/zheng-da/DGL_devday_tutorial/raw/master/GNN.png\" alt=\"drawing\" width=\"600\"/>\n",
    "\n",
    "We implement the computation in each layer of the customized GraphSage model in `SAGEConv` and implement the multi-layer model in `GraphSAGEModel`."
   ]
  },
  {
   "cell_type": "code",
   "execution_count": 127,
   "metadata": {},
   "outputs": [],
   "source": [
    "from sageconv import SAGEConv\n",
    "\n",
    "class GraphSAGEModel(nn.Module):\n",
    "    def __init__(self,\n",
    "                 in_feats,\n",
    "                 n_hidden,\n",
    "                 out_dim,\n",
    "                 n_layers,\n",
    "                 activation,\n",
    "                 dropout,\n",
    "                 aggregator_type):\n",
    "        super(GraphSAGEModel, self).__init__()\n",
    "        self.layers = nn.ModuleList()\n",
    "        if n_layers == 1:\n",
    "            self.layers.append(SAGEConv(in_feats, n_hidden, aggregator_type,\n",
    "                                        feat_drop=dropout, activation=None))\n",
    "        elif n_layers > 1:\n",
    "            # input layer\n",
    "            self.layers.append(SAGEConv(in_feats, n_hidden, aggregator_type,\n",
    "                                        feat_drop=dropout, activation=activation))\n",
    "            # hidden layer\n",
    "            for i in range(n_layers - 2):\n",
    "                self.layers.append(SAGEConv(n_hidden, n_hidden, aggregator_type,\n",
    "                                            feat_drop=dropout, activation=activation))\n",
    "            # output layer\n",
    "            self.layers.append(SAGEConv(n_hidden, out_dim, aggregator_type,\n",
    "                                        feat_drop=dropout, activation=None))\n",
    "\n",
    "    def forward(self, g, features):\n",
    "        h = features\n",
    "        for layer in self.layers:\n",
    "            h = layer(g, h, g.edata['similarity'])\n",
    "        return h"
   ]
  },
  {
   "cell_type": "markdown",
   "metadata": {},
   "source": [
    "## Train Item Embeddings\n",
    "\n",
    "We train the item embeddings with the edges in the item graph as the training signal. This step is very similar to the link prediction task in the [basic applications](https://github.com/zheng-da/DGL_devday_tutorial/blob/master/BasicTasks_pytorch.ipynb)."
   ]
  },
  {
   "cell_type": "markdown",
   "metadata": {},
   "source": [
    "Because the MovieLens dataset has sparse features (both genre and title are stored as multi-hot encoding). The sparse features have many dimensions. To run GNN on the item features, we first create an encoding layer to project the sparse features to a lower dimension. "
   ]
  },
  {
   "cell_type": "code",
   "execution_count": 128,
   "metadata": {},
   "outputs": [],
   "source": [
    "class EncodeLayer(nn.Module):\n",
    "    def __init__(self, in_feats, num_hidden):\n",
    "        super(EncodeLayer, self).__init__()\n",
    "        self.proj = nn.Linear(in_feats, num_hidden)\n",
    "        #self.emb = nn.Embedding(num_movies, num_hidden)\n",
    "        #self.nid = torch.arange(num_movies).to(device)\n",
    "        \n",
    "    def forward(self, feats):\n",
    "        return self.proj(feats)\n",
    "        #return torch.cat((self.proj(feats), self.emb(self.nid)), 1)"
   ]
  },
  {
   "cell_type": "markdown",
   "metadata": {},
   "source": [
    "We simply use node connectivity as the training signal: nodes connected by edges are similar, while nodes not connected by edges are dissimilar.\n",
    "\n",
    "To train such a model, we need to deploy negative sampling to construct negative samples. A positive sample is an edge that exist in the original graph, while a negative sample is a pair of nodes that don't have an edge between them in the graph. We usually train on each positive sample with multiple negative samples.\n",
    "\n",
    "After having the node embeddings, we compute the similarity scores on positive samples and negative samples. We construct the following loss function on a positive sample and the corresponding negative samples:\n",
    "\n",
    "$$L = -log(\\sigma(z_u^T z_v)) - Q \\cdot E_{v_n \\sim P_n(v)}(log(\\sigma(-z_u^T z_{v_n}))),$$\n",
    "\n",
    "where $Q$ is the number of negative samples.\n",
    "\n",
    "With this loss, training should increase the similarity scores on the positive samples and decrease the similarity scores on negative samples."
   ]
  },
  {
   "cell_type": "code",
   "execution_count": 129,
   "metadata": {},
   "outputs": [],
   "source": [
    "# NCE loss\n",
    "def NCE_loss(pos_score, neg_score, neg_sample_size):\n",
    "    pos_score = F.logsigmoid(pos_score)\n",
    "    neg_score = F.logsigmoid(-neg_score).reshape(-1, neg_sample_size)\n",
    "    return -pos_score - torch.sum(neg_score, dim=1)\n",
    "\n",
    "class GNNRec(nn.Module):\n",
    "    def __init__(self, gconv_model):\n",
    "        super(GNNRec, self).__init__()\n",
    "        self.encode = EncodeLayer(in_feats, n_hidden)\n",
    "        self.gconv_model = gconv_model\n",
    "\n",
    "    def forward(self, conv_g, loss_g, pos_g, neg_g, features, neg_sample_size):\n",
    "        emb = self.encode(features)\n",
    "        emb = self.gconv_model(conv_g, emb)\n",
    "        pos_score = score_func(pos_g, emb)\n",
    "        neg_score = score_func(neg_g, emb)\n",
    "        return torch.mean(NCE_loss(pos_score, neg_score, neg_sample_size) * pos_g.edata['weight'])"
   ]
  },
  {
   "cell_type": "markdown",
   "metadata": {},
   "source": [
    "DGL provides an edge sampler `EdgeSampler`, which selects positive edge samples and negative edge samples efficiently. Thus, we can use it to generate positive samples and negative samples for link prediction. `EdgeSampler` generates `neg_sample_size` negative edges by corrupting the head or the tail node of a positive edge with some randomly sampled nodes.\n",
    "\n",
    "<img src=\"https://github.com/zheng-da/DGL_devday_tutorial/raw/master/negative_edges.png\" alt=\"drawing\" width=\"400\"/>\n",
    "\n",
    "`edge_sampler` samples one tenth of the edges in the graph as positive edges. It returns a positive subgraph and a negative subgraph. The positive subgraph contains all positive edges sampled from the graph `g`, while the negative subgraph contains all negative edges constructed by the edge sampler."
   ]
  },
  {
   "cell_type": "code",
   "execution_count": 130,
   "metadata": {},
   "outputs": [],
   "source": [
    "def edge_sampler(g, neg_sample_size, edges=None, return_false_neg=True):\n",
    "    sampler = dgl.contrib.sampling.EdgeSampler(g, batch_size=int(g.number_of_edges()/10),\n",
    "                                               seed_edges=edges,\n",
    "                                               neg_sample_size=neg_sample_size,\n",
    "                                               negative_mode='tail',\n",
    "                                               shuffle=True,\n",
    "                                               return_false_neg=return_false_neg)\n",
    "    sampler = iter(sampler)\n",
    "    pos_subg, neg_subg = next(sampler)\n",
    "    pos_subg.edata['weight'] = g.edata['similarity'][pos_subg.parent_eid]\n",
    "    return pos_subg, neg_subg"
   ]
  },
  {
   "cell_type": "markdown",
   "metadata": {},
   "source": [
    "After having the positive edge subgraph and the negative edge subgraph, we can now compute the similarity on the positive edge samples and negative edge samples.\n",
    "\n",
    "In this tutorial, we use dot-product similarity to measure the similarity between two nodes."
   ]
  },
  {
   "cell_type": "code",
   "execution_count": 131,
   "metadata": {},
   "outputs": [],
   "source": [
    "def score_func(g, emb):\n",
    "    src_nid, dst_nid = g.all_edges(order='eid')\n",
    "    # Get the node Ids in the parent graph.\n",
    "    src_nid = g.parent_nid[src_nid]\n",
    "    dst_nid = g.parent_nid[dst_nid]\n",
    "    # Read the node embeddings of the source nodes and destination nodes.\n",
    "    pos_heads = emb[src_nid]\n",
    "    pos_tails = emb[dst_nid]\n",
    "    # cosine similarity\n",
    "    return torch.sum(pos_heads * pos_tails, dim=1)"
   ]
  },
  {
   "cell_type": "markdown",
   "metadata": {},
   "source": [
    "We evaluate the performance of the trained item embeddings in the item-based recommendation task. We use the last item that a user purchased to represent the user and compute the similarity between the last item and a list of items (an item the user will purchase and a set of randomly sampled items). We calculate the ranking of the item that will be purchased among the list of items."
   ]
  },
  {
   "cell_type": "code",
   "execution_count": 132,
   "metadata": {},
   "outputs": [],
   "source": [
    "def RecEvaluate(model, g, features, users_eval, movies_eval, neg_sample_size):\n",
    "    gconv_model.eval()\n",
    "    with torch.no_grad():\n",
    "        emb = model.encode(features)\n",
    "        emb = model.gconv_model(g, emb)\n",
    "        hits_10s = []\n",
    "        # evaluate one user-item interaction at a time\n",
    "        for u, i in zip(users_eval, movies_eval):\n",
    "            I_q = user_latest_item[u]\n",
    "            I = torch.cat([torch.LongTensor([i]), torch.LongTensor(neg_valid[u])])\n",
    "            Z_q = emb[I_q]\n",
    "            Z = emb[I]\n",
    "            score = (Z_q[None, :] * Z).sum(1).cpu().numpy()\n",
    "            rank = stats.rankdata(-score, 'min')\n",
    "            hits_10s.append(rank[0] <= 10)\n",
    "        return np.mean(hits_10s)"
   ]
  },
  {
   "cell_type": "markdown",
   "metadata": {},
   "source": [
    "Now we put everything in the training loop."
   ]
  },
  {
   "cell_type": "code",
   "execution_count": 144,
   "metadata": {
    "scrolled": false
   },
   "outputs": [
    {
     "name": "stdout",
     "output_type": "stream",
     "text": [
      "Epoch:0, loss:8.4987, HITS@10:0.2967\n",
      "Epoch:1, loss:8.4535, HITS@10:0.2854\n",
      "Epoch:2, loss:8.4511, HITS@10:0.2858\n",
      "Epoch:3, loss:8.4499, HITS@10:0.2969\n",
      "Epoch:4, loss:8.4493, HITS@10:0.2866\n",
      "Epoch:5, loss:8.4494, HITS@10:0.3023\n",
      "Epoch:6, loss:8.4493, HITS@10:0.2974\n",
      "Epoch:7, loss:8.4496, HITS@10:0.2995\n",
      "Epoch:8, loss:8.4506, HITS@10:0.3071\n",
      "Epoch:9, loss:8.4505, HITS@10:0.2930\n",
      "Epoch:10, loss:8.4501, HITS@10:0.2990\n",
      "Epoch:11, loss:8.4498, HITS@10:0.3086\n",
      "Epoch:12, loss:8.4520, HITS@10:0.3111\n",
      "Epoch:13, loss:8.4497, HITS@10:0.2975\n",
      "Epoch:14, loss:8.4510, HITS@10:0.2868\n",
      "Epoch:15, loss:8.4506, HITS@10:0.3003\n",
      "Epoch:16, loss:8.4512, HITS@10:0.3035\n"
     ]
    },
    {
     "ename": "KeyboardInterrupt",
     "evalue": "",
     "output_type": "error",
     "traceback": [
      "\u001b[0;31m---------------------------------------------------------------------------\u001b[0m",
      "\u001b[0;31mKeyboardInterrupt\u001b[0m                         Traceback (most recent call last)",
      "\u001b[0;32m<ipython-input-144-6135b7306f28>\u001b[0m in \u001b[0;36m<module>\u001b[0;34m\u001b[0m\n\u001b[1;32m     51\u001b[0m         \u001b[0moptimizer\u001b[0m\u001b[0;34m.\u001b[0m\u001b[0mzero_grad\u001b[0m\u001b[0;34m(\u001b[0m\u001b[0;34m)\u001b[0m\u001b[0;34m\u001b[0m\u001b[0m\n\u001b[1;32m     52\u001b[0m         \u001b[0mloss\u001b[0m\u001b[0;34m.\u001b[0m\u001b[0mbackward\u001b[0m\u001b[0;34m(\u001b[0m\u001b[0;34m)\u001b[0m\u001b[0;34m\u001b[0m\u001b[0m\n\u001b[0;32m---> 53\u001b[0;31m         \u001b[0moptimizer\u001b[0m\u001b[0;34m.\u001b[0m\u001b[0mstep\u001b[0m\u001b[0;34m(\u001b[0m\u001b[0;34m)\u001b[0m\u001b[0;34m\u001b[0m\u001b[0m\n\u001b[0m\u001b[1;32m     54\u001b[0m         \u001b[0mlosses\u001b[0m\u001b[0;34m.\u001b[0m\u001b[0mappend\u001b[0m\u001b[0;34m(\u001b[0m\u001b[0mloss\u001b[0m\u001b[0;34m.\u001b[0m\u001b[0mdetach\u001b[0m\u001b[0;34m(\u001b[0m\u001b[0;34m)\u001b[0m\u001b[0;34m.\u001b[0m\u001b[0mitem\u001b[0m\u001b[0;34m(\u001b[0m\u001b[0;34m)\u001b[0m\u001b[0;34m)\u001b[0m\u001b[0;34m\u001b[0m\u001b[0m\n\u001b[1;32m     55\u001b[0m \u001b[0;34m\u001b[0m\u001b[0m\n",
      "\u001b[0;32m/usr/local/lib/python3.5/dist-packages/torch/optim/adam.py\u001b[0m in \u001b[0;36mstep\u001b[0;34m(self, closure)\u001b[0m\n\u001b[1;32m     99\u001b[0m                     \u001b[0mdenom\u001b[0m \u001b[0;34m=\u001b[0m \u001b[0mmax_exp_avg_sq\u001b[0m\u001b[0;34m.\u001b[0m\u001b[0msqrt\u001b[0m\u001b[0;34m(\u001b[0m\u001b[0;34m)\u001b[0m\u001b[0;34m.\u001b[0m\u001b[0madd_\u001b[0m\u001b[0;34m(\u001b[0m\u001b[0mgroup\u001b[0m\u001b[0;34m[\u001b[0m\u001b[0;34m'eps'\u001b[0m\u001b[0;34m]\u001b[0m\u001b[0;34m)\u001b[0m\u001b[0;34m\u001b[0m\u001b[0m\n\u001b[1;32m    100\u001b[0m                 \u001b[0;32melse\u001b[0m\u001b[0;34m:\u001b[0m\u001b[0;34m\u001b[0m\u001b[0m\n\u001b[0;32m--> 101\u001b[0;31m                     \u001b[0mdenom\u001b[0m \u001b[0;34m=\u001b[0m \u001b[0mexp_avg_sq\u001b[0m\u001b[0;34m.\u001b[0m\u001b[0msqrt\u001b[0m\u001b[0;34m(\u001b[0m\u001b[0;34m)\u001b[0m\u001b[0;34m.\u001b[0m\u001b[0madd_\u001b[0m\u001b[0;34m(\u001b[0m\u001b[0mgroup\u001b[0m\u001b[0;34m[\u001b[0m\u001b[0;34m'eps'\u001b[0m\u001b[0;34m]\u001b[0m\u001b[0;34m)\u001b[0m\u001b[0;34m\u001b[0m\u001b[0m\n\u001b[0m\u001b[1;32m    102\u001b[0m \u001b[0;34m\u001b[0m\u001b[0m\n\u001b[1;32m    103\u001b[0m                 \u001b[0mbias_correction1\u001b[0m \u001b[0;34m=\u001b[0m \u001b[0;36m1\u001b[0m \u001b[0;34m-\u001b[0m \u001b[0mbeta1\u001b[0m \u001b[0;34m**\u001b[0m \u001b[0mstate\u001b[0m\u001b[0;34m[\u001b[0m\u001b[0;34m'step'\u001b[0m\u001b[0;34m]\u001b[0m\u001b[0;34m\u001b[0m\u001b[0m\n",
      "\u001b[0;31mKeyboardInterrupt\u001b[0m: "
     ]
    }
   ],
   "source": [
    "if torch.cuda.is_available():\n",
    "    device = torch.device('cuda:0')\n",
    "else:\n",
    "    device = torch.device('cpu')\n",
    "\n",
    "#Model hyperparameters\n",
    "n_hidden = 8\n",
    "n_layers = 1\n",
    "dropout = 0.6\n",
    "aggregator_type = 'sum'\n",
    "\n",
    "# create GraphSAGE model\n",
    "gconv_model = GraphSAGEModel(n_hidden,\n",
    "                             n_hidden,\n",
    "                             n_hidden,\n",
    "                             n_layers,\n",
    "                             F.leaky_relu,\n",
    "                             dropout,\n",
    "                             aggregator_type)\n",
    "    \n",
    "# Model for link prediction\n",
    "model = GNNRec(gconv_model).to(device)\n",
    "conv_g.to(device)\n",
    "loss_g.to(device)\n",
    "features = features.to(device)\n",
    "\n",
    "# Training hyperparameters\n",
    "weight_decay = 1e-3\n",
    "n_epochs = 200\n",
    "lr = 1e-3\n",
    "neg_sample_size = 10\n",
    "\n",
    "# use optimizer\n",
    "optimizer = torch.optim.Adam(model.parameters(), lr=lr, weight_decay=weight_decay)\n",
    "\n",
    "# initialize graph\n",
    "dur = []\n",
    "prev_acc = 0\n",
    "for epoch in range(n_epochs):\n",
    "    model.train()\n",
    "    losses = []\n",
    "    for pos_subg, neg_subg in dgl.contrib.sampling.EdgeSampler(loss_g, batch_size=1024,\n",
    "                                               seed_edges=None,\n",
    "                                               neg_sample_size=neg_sample_size,\n",
    "                                               negative_mode='tail',\n",
    "                                               shuffle=True,\n",
    "                                               return_false_neg=False):\n",
    "        pos_subg.edata['weight'] = loss_g.edata['similarity'][pos_subg.parent_eid]\n",
    "        #pos_subg.edata['weight'] = torch.ones((pos_subg.number_of_edges())).to(device)\n",
    "        loss = model(conv_g, loss_g, pos_subg, neg_subg, features, neg_sample_size)\n",
    "        optimizer.zero_grad()\n",
    "        loss.backward()\n",
    "        optimizer.step()\n",
    "        losses.append(loss.detach().item())\n",
    "    \n",
    "    acc = RecEvaluate(model, conv_g, features, users_valid, movies_valid, neg_sample_size)\n",
    "    print('Epoch:{}, loss:{:.4f}, HITS@10:{:.4f}'.format(epoch, np.mean(losses), acc))\n",
    "\n",
    "    # We have an early stop\n",
    "    #if epoch > 8 and acc <= prev_acc:\n",
    "    #    break\n",
    "    #prev_acc = acc\n",
    "\n",
    "print()\n",
    "# Let's save the trained node embeddings.\n",
    "RecEvaluate(model, conv_g, features, users_test, movies_test, neg_sample_size)"
   ]
  },
  {
   "cell_type": "code",
   "execution_count": null,
   "metadata": {},
   "outputs": [],
   "source": [
    "emb = model.encode(features)\n",
    "emb = model.gconv_model(conv_g, emb)\n",
    "print(emb.cpu().detach().numpy())"
   ]
  },
  {
   "cell_type": "code",
   "execution_count": null,
   "metadata": {},
   "outputs": [],
   "source": [
    "RecEvaluate(model, conv_g, features, users_test, movies_test, neg_sample_size)"
   ]
  },
  {
   "cell_type": "code",
   "execution_count": 139,
   "metadata": {},
   "outputs": [],
   "source": [
    "from sklearn.metrics.pairwise import cosine_similarity\n",
    "\n",
    "def knnEvaluate(data, users_eval, movies_eval, neg_sample_size, score_fn):\n",
    "    hits_10s = []\n",
    "    # evaluate one user-item interaction at a time\n",
    "    for u, i in zip(users_eval, movies_eval):\n",
    "        I_q = user_latest_item[u]\n",
    "        I = np.concatenate([np.array([i]), neg_valid[u]]).astype(np.int32)\n",
    "        Z_q = data[I_q]\n",
    "        if len(Z_q.shape) == 1:\n",
    "            Z_q = np.expand_dims(Z_q, 1).transpose()\n",
    "        Z = data[I]\n",
    "        score = score_fn(Z_q, Z)\n",
    "        rank = stats.rankdata(-score, 'min')\n",
    "        hits_10s.append(rank[0] <= 10)\n",
    "    return np.mean(hits_10s)"
   ]
  },
  {
   "cell_type": "code",
   "execution_count": 140,
   "metadata": {},
   "outputs": [
    {
     "name": "stdout",
     "output_type": "stream",
     "text": [
      "0.423841059602649\n"
     ]
    }
   ],
   "source": [
    "hits_10 = knnEvaluate(user_movie_spm.transpose().tocsr(), users_valid, movies_valid, neg_sample_size, cosine_similarity)\n",
    "print(hits_10)"
   ]
  },
  {
   "cell_type": "code",
   "execution_count": null,
   "metadata": {},
   "outputs": [],
   "source": [
    "def dot_score(q, z):\n",
    "    return (q * z).sum(1)\n",
    "\n",
    "for d in range(1, 10):\n",
    "    u, s, vt = spsp.linalg.svds(user_movie_spm, k=d)\n",
    "    v = vt.transpose() * np.sqrt(s).transpose()\n",
    "    hits_10 = knnEvaluate(v, users_valid, movies_valid, neg_sample_size, dot_score)\n",
    "    print('d={}, hits10={}'.format(d, hits_10))"
   ]
  },
  {
   "cell_type": "code",
   "execution_count": null,
   "metadata": {},
   "outputs": [],
   "source": [
    "def dot_score(q, z):\n",
    "    return (q * z).sum(1)\n",
    "\n",
    "features_np = pickle.load(open('movielens/movielens_features.pkl', 'rb')).numpy()\n",
    "data = user_movie_spm.transpose().todense()\n",
    "data = np.concatenate((data, features_np), 1)\n",
    "\n",
    "for d in range(1, 10):\n",
    "    u, s, vt = spsp.linalg.svds(data, k=d)\n",
    "    u = u * np.sqrt(s).transpose()\n",
    "    hits_10 = knnEvaluate(u, users_valid, movies_valid, neg_sample_size, dot_score)\n",
    "    print('d={}, hits10={}'.format(d, hits_10))"
   ]
  },
  {
   "cell_type": "code",
   "execution_count": null,
   "metadata": {},
   "outputs": [],
   "source": []
  }
 ],
 "metadata": {
  "kernelspec": {
   "display_name": "Python 3",
   "language": "python",
   "name": "python3"
  },
  "language_info": {
   "codemirror_mode": {
    "name": "ipython",
    "version": 3
   },
   "file_extension": ".py",
   "mimetype": "text/x-python",
   "name": "python",
   "nbconvert_exporter": "python",
   "pygments_lexer": "ipython3",
   "version": "3.5.2"
  }
 },
 "nbformat": 4,
 "nbformat_minor": 2
}
