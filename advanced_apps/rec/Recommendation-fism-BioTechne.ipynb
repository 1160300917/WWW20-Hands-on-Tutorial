{
 "cells": [
  {
   "cell_type": "markdown",
   "metadata": {},
   "source": [
    "# Problem setting\n",
    "\n",
    "In this tutorial, we demonstrate how graph neural networks can be used for recommendation. Here we focus on item-based recommendation model. This method in this tutorial recommends items that are similar to the ones purchased by the user. We demonstrate the recommendation model on the MovieLens dataset."
   ]
  },
  {
   "cell_type": "markdown",
   "metadata": {},
   "source": [
    "# Get started\n",
    "\n",
    "DGL can be used with different deep learning frameworks. Currently, DGL can be used with Pytorch and MXNet. Here, we show how DGL works with Pytorch."
   ]
  },
  {
   "cell_type": "code",
   "execution_count": null,
   "metadata": {},
   "outputs": [],
   "source": [
    "import torch\n",
    "import torch.nn as nn\n",
    "import torch.nn.functional as F"
   ]
  },
  {
   "cell_type": "markdown",
   "metadata": {},
   "source": [
    "When we load DGL, we need to set the DGL backend for one of the deep learning frameworks. Because this tutorial develops models in Pytorch, we have to set the DGL backend to Pytorch."
   ]
  },
  {
   "cell_type": "code",
   "execution_count": null,
   "metadata": {},
   "outputs": [],
   "source": [
    "import dgl\n",
    "from dgl import DGLGraph\n",
    "\n",
    "# Load Pytorch as backend\n",
    "dgl.load_backend('pytorch')"
   ]
  },
  {
   "cell_type": "markdown",
   "metadata": {},
   "source": [
    "Load the rest of necessary libraries."
   ]
  },
  {
   "cell_type": "code",
   "execution_count": null,
   "metadata": {},
   "outputs": [],
   "source": [
    "import numpy as np\n",
    "import pandas as pd\n",
    "from scipy import stats\n",
    "from scipy import sparse as spsp"
   ]
  },
  {
   "cell_type": "markdown",
   "metadata": {},
   "source": [
    "## Bio-Techne data"
   ]
  },
  {
   "cell_type": "code",
   "execution_count": null,
   "metadata": {},
   "outputs": [],
   "source": [
    "import pickle\n",
    "item_data = pickle.load(open('BioTechne/item_data.pkl', 'rb'))\n",
    "ratings = pickle.load(open('BioTechne/ratings.pkl', 'rb'))\n",
    "item_id_map = pickle.load(open('BioTechne/item_id_map.pkl', 'rb'))\n",
    "print(len(ratings))"
   ]
  },
  {
   "cell_type": "code",
   "execution_count": null,
   "metadata": {},
   "outputs": [],
   "source": [
    "ratings = ratings.drop_duplicates(['user_idx', 'item_idx'])"
   ]
  },
  {
   "cell_type": "code",
   "execution_count": null,
   "metadata": {},
   "outputs": [],
   "source": [
    "user_item_spm = spsp.coo_matrix((np.ones(len(ratings)), (ratings['user_idx'], ratings['item_idx'])))\n",
    "features = np.concatenate([item_data['title'], item_data['item_types']], 1)"
   ]
  },
  {
   "cell_type": "code",
   "execution_count": null,
   "metadata": {},
   "outputs": [],
   "source": [
    "kge_feats = pickle.load(open('BioTechne/bio-techne_entity_embed_features.pkl', 'rb'))\n",
    "item_kge_map = pd.read_csv('BioTechne/_matched_item2feaidx', sep='\\t', header=None)\n",
    "item_kge_map = {item_name: kge_idx for kge_idx, item_name in zip(item_kge_map[0], item_kge_map[1])}\n",
    "print(len(item_kge_map))\n",
    "\n",
    "orig_idx2_kge_idx = {}\n",
    "for item_id, item_idx in zip(ratings['item_id'], ratings['item_idx']):\n",
    "    if item_id in item_kge_map:\n",
    "        orig_idx2_kge_idx[item_idx] = item_kge_map[item_id]\n",
    "\n",
    "exist_mask = np.zeros((len(ratings['item_id'])))\n",
    "for i, item_idx in enumerate(ratings['item_idx']):\n",
    "    if item_idx in orig_idx2_kge_idx:\n",
    "        exist_mask[i] = 1\n",
    "exist_mask = (exist_mask == 1)\n",
    "ratings = ratings[exist_mask]\n",
    "\n",
    "item_feats = np.zeros((len(orig_idx2_kge_idx), features.shape[1]), dtype=np.float32)\n",
    "for orig_idx, kge_idx in orig_idx2_kge_idx.items():\n",
    "    item_feats[kge_idx] = features[orig_idx]\n",
    "\n",
    "#features = kge_feats\n",
    "print(kge_feats.dtype)\n",
    "print(item_feats.dtype)\n",
    "features = item_feats\n",
    "print(features.shape)\n",
    "\n",
    "user_item_spm = spsp.coo_matrix((np.ones(len(ratings)), (ratings['user_idx'], ratings['item_idx'])))\n",
    "user_idx = user_item_spm.row\n",
    "item_idx = user_item_spm.col\n",
    "for i, orig_idx in enumerate(item_idx):\n",
    "    if orig_idx in orig_idx2_kge_idx:\n",
    "        item_idx[i] = orig_idx2_kge_idx[orig_idx]\n",
    "    else:\n",
    "        item_idx[i] = -1\n",
    "user_idx = user_idx[item_idx >= 0]\n",
    "item_idx = item_idx[item_idx >= 0]\n",
    "user_item_spm = spsp.coo_matrix((np.ones(len(user_idx)), (user_idx, item_idx))).tocsr()\n",
    "print(user_item_spm.shape)"
   ]
  },
  {
   "cell_type": "code",
   "execution_count": null,
   "metadata": {},
   "outputs": [],
   "source": [
    "print(user_item_spm.shape)\n",
    "num_items = user_item_spm.shape[1]\n",
    "user_deg = user_item_spm.dot(np.ones((num_items)))\n",
    "print(np.sum(user_deg == 1))\n",
    "print(np.sum(user_deg == 2))\n",
    "user_item_spm = user_item_spm.tocsr()\n",
    "user_item_spm = user_item_spm[np.nonzero(user_deg > 2)]\n",
    "print(user_item_spm.shape)\n",
    "num_users = user_item_spm.shape[0]\n",
    "num_items = user_item_spm.shape[1]"
   ]
  },
  {
   "cell_type": "code",
   "execution_count": null,
   "metadata": {},
   "outputs": [],
   "source": [
    "def pick_test(user_item_spm):\n",
    "    user_item_spm = user_item_spm.tocoo()\n",
    "    users = user_item_spm.row\n",
    "    items = user_item_spm.col\n",
    "    picks = np.zeros(shape=(len(users)))\n",
    "    user_item_spm = user_item_spm.tocsr()\n",
    "    indptr = user_item_spm.indptr\n",
    "    valid_set = np.zeros(shape=(num_users))\n",
    "    test_set = np.zeros(shape=(num_users))\n",
    "    for i in range(user_item_spm.shape[0]):\n",
    "        start_idx = indptr[i]\n",
    "        end_idx = indptr[i+1]\n",
    "        idx = np.random.choice(np.arange(start_idx, end_idx), 2, replace=False)\n",
    "        valid_set[i] = items[idx[0]]\n",
    "        picks[idx[0]] = 1\n",
    "        test_set[i] = items[idx[1]]\n",
    "        picks[idx[1]] = 1\n",
    "    users = users[picks == 0]\n",
    "    items = items[picks == 0]\n",
    "    return spsp.coo_matrix((np.ones((len(users),)), (users, items))), valid_set, test_set\n",
    "\n",
    "np.random.seed(0)\n",
    "orig_user_item_spm = user_item_spm.tocsr()\n",
    "user_item_spm, valid_set, test_set = pick_test(user_item_spm)\n",
    "print('#training size:', user_item_spm.nnz)\n",
    "users_valid = np.arange(num_users)\n",
    "items_valid = valid_set\n",
    "users_test = np.arange(num_users)\n",
    "items_test = test_set\n",
    "valid_size = len(users_valid)\n",
    "test_size = len(users_test)\n",
    "num_users = user_item_spm.shape[0]\n",
    "num_items = user_item_spm.shape[1]\n",
    "print('valid set:', valid_size)\n",
    "print('test set:', test_size)"
   ]
  },
  {
   "cell_type": "code",
   "execution_count": null,
   "metadata": {},
   "outputs": [],
   "source": [
    "orig_user_item_spm = orig_user_item_spm.tocoo()\n",
    "orig_users = orig_user_item_spm.row\n",
    "orig_items = orig_user_item_spm.col\n",
    "valid_set = set()\n",
    "test_set = set()\n",
    "for user, item in zip(users_valid, items_valid):\n",
    "    valid_set.add((user, item))\n",
    "for user, item in zip(users_test, items_test):\n",
    "    test_set.add((user, item))\n",
    "valid_mask = np.zeros((len(orig_users)), dtype=np.int64)\n",
    "test_mask = np.zeros((len(orig_users)), dtype=np.int64)\n",
    "for i in range(len(valid_mask)):\n",
    "    user = orig_users[i]\n",
    "    item = orig_items[i]\n",
    "    if (user, item) in valid_set:\n",
    "        valid_mask[i] = 1\n",
    "    elif (user, item) in test_set:\n",
    "        test_mask[i] = 1\n",
    "assert np.sum(valid_mask) == num_users\n",
    "assert np.sum(test_mask) == num_users\n",
    "full_data = np.concatenate([np.expand_dims(orig_users, 1),\n",
    "                            np.expand_dims(orig_items, 1),\n",
    "                            np.expand_dims(valid_mask, 1),\n",
    "                            np.expand_dims(test_mask, 1)], 1)\n",
    "np.savetxt('bio-techne.csv', full_data, fmt='%d', delimiter=',')\n",
    "\n",
    "# verify\n",
    "test_spm = user_item_spm.tocsr()\n",
    "for i in range(len(full_data)):\n",
    "    user = full_data[i, 0]\n",
    "    item = full_data[i, 1]\n",
    "    if full_data[i, 2] == 1:\n",
    "        assert item == items_valid[user]\n",
    "    elif full_data[i, 3] == 1:\n",
    "        assert item == items_test[user]\n",
    "    else:\n",
    "        assert test_spm[user, item] != 0"
   ]
  },
  {
   "cell_type": "code",
   "execution_count": null,
   "metadata": {},
   "outputs": [],
   "source": [
    "print(items_test)\n",
    "print(items_valid)"
   ]
  },
  {
   "cell_type": "code",
   "execution_count": null,
   "metadata": {},
   "outputs": [],
   "source": [
    "'''\n",
    "test_mask = np.array(ratings['test_mask'])\n",
    "valid_mask = np.array(ratings['valid_mask'])\n",
    "train_mask = np.logical_not(test_mask + valid_mask)\n",
    "train_data = ratings[train_mask]\n",
    "valid_data = ratings[valid_mask]\n",
    "test_data = ratings[test_mask]\n",
    "train_user = np.array(train_data['user_idx'], dtype=np.int64)\n",
    "train_item = np.array(train_data['item_idx'], dtype=np.int64)\n",
    "user_item_spm = spsp.coo_matrix((np.ones(len(train_user)), (train_user, train_item)))\n",
    "users_valid = np.array(valid_data['user_idx'], dtype=np.int64)\n",
    "items_valid = np.array(valid_data['item_idx'], dtype=np.int64)\n",
    "users_test = np.array(test_data['user_idx'], dtype=np.int64)\n",
    "items_test = np.array(test_data['item_idx'], dtype=np.int64)\n",
    "features = np.concatenate([item_data['title'], item_data['item_types']], 1)\n",
    "num_users = user_item_spm.shape[0]\n",
    "num_items = user_item_spm.shape[1]\n",
    "print('#users:', num_users)\n",
    "print('#items:', num_items)\n",
    "print('#interactions:', user_item_spm.nnz)\n",
    "'''"
   ]
  },
  {
   "cell_type": "code",
   "execution_count": null,
   "metadata": {},
   "outputs": [],
   "source": [
    "print(len(users_test))\n",
    "print(len(np.unique(users_test)))"
   ]
  },
  {
   "cell_type": "markdown",
   "metadata": {},
   "source": [
    "# The recommendation model\n",
    "\n",
    "At large, the model first learns item embeddings from the user-item interaction dataset and use the item embeddings to recommend users similar items they have purchased. To learn item embeddings, we first need to construct an item similarity graph and train GNN on the item graph.\n",
    "\n",
    "There are many ways of constructing the item similarity graph. Here we use the [SLIM model](https://dl.acm.org/citation.cfm?id=2118303) to learn item similarity and use the learned result to construct the item graph. The resulting graph will have an edge between two items if they are similar and the edge has a weight that represents the similarity score.\n",
    "\n",
    "After the item similarity graph is constructed, we run a GNN model on it and use the vertex connectivity as the training signal to train the GNN model. The GNN training procedure is very similar to the link prediction task in [the previous section](https://github.com/zheng-da/DGL_devday_tutorial/blob/master/BasicTasks_pytorch.ipynb)."
   ]
  },
  {
   "cell_type": "markdown",
   "metadata": {},
   "source": [
    "## Construct the item graph with SLIM\n",
    "SLIM is an item-based recommendation model. When training SLIM on a user-item dataset, it learns an item similarity graph. This similarity graph is the item graph we construct for the GNN model.\n",
    "\n",
    "Please follow the instruction on the [SLIM github repo](https://github.com/KarypisLab/SLIM) to install SLIM.\n",
    "\n",
    "To use SLIM to generate an item similarity graph, there are two hyperparameters we can tune. `l1r` is the co-efficient for the L1 regularization and `l2r` is the co-efficient for the L2 regularization. Increasing `l1r` will generate a sparser similarity graph and increasing `l2r` leads to a denser similarity graph."
   ]
  },
  {
   "cell_type": "code",
   "execution_count": null,
   "metadata": {},
   "outputs": [],
   "source": [
    "from graph_construct import create_SLIM_graph\n",
    "item_spm = create_SLIM_graph(user_item_spm, l1r=3, l2r=1, test=False)\n",
    "use_edge_similarity = True"
   ]
  },
  {
   "cell_type": "code",
   "execution_count": null,
   "metadata": {},
   "outputs": [],
   "source": [
    "deg = item_spm.dot(np.ones((num_items)))\n",
    "print(item_spm.nnz)\n",
    "print(np.sum(deg == 0))\n",
    "print(len(deg))\n",
    "print(item_spm.sum(0))"
   ]
  },
  {
   "cell_type": "markdown",
   "metadata": {},
   "source": [
    "## Construct the co-occurence graph\n",
    "Or we can simply construct a co-occurrence graph. That is, if two items are used by the same user, we draw an edge between these two items.\n",
    "\n",
    "When using this method for graph construction, there are also two hyperparameters to tune. `downsample_factor` controls how much we should down sample user-item pairs based on the frequency of items. A larger `downsample_factor` leads more down sampling. `topk` controls how many items should an item connect to. If it's None, an item connects to all items that have co-occurrence with the item; otherwise, an item connects with the most frequently co-occurred items."
   ]
  },
  {
   "cell_type": "code",
   "execution_count": null,
   "metadata": {},
   "outputs": [],
   "source": [
    "from graph_construct import create_cooccur_graph\n",
    "item_spm = create_cooccur_graph(user_item_spm, downsample_factor=1e-5, topk=50)\n",
    "use_edge_similarity = False"
   ]
  },
  {
   "cell_type": "markdown",
   "metadata": {},
   "source": [
    "## Construct the cosine-similarity graph\n",
    "We can also use cosine similarity to build a graph. We compute the cosine similarity of the neighborhoods of every pair of items. This is quite similar to co-occurrence graph except that we use cosine similarity instead of the number of co-occurrence to measure the similarity of two items.\n",
    "\n",
    "In this case, there is one hyperparameter `topk`. If it's specified, an item connects to top K most similar items in terms of cosine similarity in the neighborhood."
   ]
  },
  {
   "cell_type": "code",
   "execution_count": null,
   "metadata": {},
   "outputs": [],
   "source": [
    "from graph_construct import create_cosine_graph\n",
    "item_spm = create_cosine_graph(user_item_spm, topk=50)\n",
    "use_edge_similarity = False"
   ]
  },
  {
   "cell_type": "markdown",
   "metadata": {},
   "source": [
    "Once we construct the graph, we load it to the DGL graph."
   ]
  },
  {
   "cell_type": "code",
   "execution_count": null,
   "metadata": {},
   "outputs": [],
   "source": [
    "g = dgl.DGLGraph(item_spm, readonly=True)\n",
    "g.edata['similarity'] = torch.tensor(item_spm.data, dtype=torch.float32)\n",
    "g.ndata['feats'] = torch.tensor(features)\n",
    "#g.ndata['id'] = torch.arange(num_items, dtype=torch.int64)\n",
    "print('#nodes:', g.number_of_nodes())\n",
    "print('#edges:', g.number_of_edges())"
   ]
  },
  {
   "cell_type": "markdown",
   "metadata": {},
   "source": [
    "## GNN models\n",
    "\n",
    "We run GNN on the item graph to compute item embeddings. In this tutorial, we use a customized [GraphSage](https://cs.stanford.edu/people/jure/pubs/graphsage-nips17.pdf) model to compute node embeddings. The original GraphSage performs the following computation on every node $v$ in the graph:\n",
    "\n",
    "$$h_{N(v)}^{(l)} \\gets AGGREGATE_k({h_u^{(l-1)}, \\forall u \\in N(v)})$$\n",
    "$$h_v^{(l)} \\gets \\sigma(W^k \\cdot CONCAT(h_v^{(l-1)}, h_{N(v)}^{(l)})),$$\n",
    "\n",
    "where $N(v)$ is the neighborhood of node $v$ and $l$ is the layer Id.\n",
    "\n",
    "The original GraphSage model treats each neighbor equally. However, the SLIM model learns the item similarity based on the user-item iteration. The GNN model should take the similarity into account. Thus, we customize the GraphSage model in the following fashion. Instead of aggregating all neighbors equally, we aggregate neighbors embeddings rescaled by the similarity on the edges. Thus, the aggregation step is defined as follows:\n",
    "\n",
    "$$h_{N(v)}^{(l)} \\gets \\Sigma_{u \\in N(v)}({h_u^{(l-1)} * s_{uv}}),$$\n",
    "\n",
    "where $s_{uv}$ is the similarity score between two vertices $u$ and $v$.\n",
    "\n",
    "The GNN model has multiple layers. In each layer, a vertex accesses its direct neighbors. When we stack $k$ layers in a model, a node $v$ access neighbors within $k$ hops. The output of the GNN model is node embeddings that represent the nodes and all information in the k-hop neighborhood.\n",
    "\n",
    "<img src=\"https://github.com/zheng-da/DGL_devday_tutorial/raw/master/GNN.png\" alt=\"drawing\" width=\"600\"/>\n",
    "\n",
    "We implement the computation in each layer of the customized GraphSage model in `SAGEConv` and implement the multi-layer model in `GraphSAGEModel`."
   ]
  },
  {
   "cell_type": "code",
   "execution_count": null,
   "metadata": {},
   "outputs": [],
   "source": [
    "if use_edge_similarity:\n",
    "    from sageconv import SAGEConv\n",
    "else:\n",
    "    from dgl.nn.pytorch.conv import SAGEConv\n",
    "\n",
    "class GraphSAGEModel(nn.Module):\n",
    "    def __init__(self,\n",
    "                 in_feats,\n",
    "                 n_hidden,\n",
    "                 out_dim,\n",
    "                 n_layers,\n",
    "                 activation,\n",
    "                 dropout,\n",
    "                 aggregator_type):\n",
    "        super(GraphSAGEModel, self).__init__()\n",
    "        self.norm = nn.LayerNorm((out_dim,))\n",
    "        self.layers = nn.ModuleList()\n",
    "        if n_layers == 1:\n",
    "            self.layers.append(SAGEConv(in_feats, out_dim, aggregator_type,\n",
    "                                        feat_drop=dropout, activation=None))\n",
    "        elif n_layers > 1:\n",
    "            # input layer\n",
    "            self.layers.append(SAGEConv(in_feats, n_hidden, aggregator_type,\n",
    "                                        feat_drop=dropout, activation=activation))\n",
    "            # hidden layer\n",
    "            for i in range(n_layers - 2):\n",
    "                self.layers.append(SAGEConv(n_hidden, n_hidden, aggregator_type,\n",
    "                                            feat_drop=dropout, activation=activation))\n",
    "            # output layer\n",
    "            self.layers.append(SAGEConv(n_hidden, out_dim, aggregator_type,\n",
    "                                        feat_drop=dropout, activation=None))\n",
    "\n",
    "    def forward(self, g, features):\n",
    "        h = features\n",
    "        for layer in self.layers:\n",
    "            if use_edge_similarity:\n",
    "                h = layer(g, h, g.edata['similarity'])\n",
    "            else:\n",
    "                h = layer(g, h)\n",
    "            #h = tmp + prev_h\n",
    "            #prev_h = h\n",
    "        h = self.norm(h)\n",
    "        return h"
   ]
  },
  {
   "cell_type": "markdown",
   "metadata": {},
   "source": [
    "## Train Item Embeddings\n",
    "\n",
    "We train the item embeddings with the edges in the item graph as the training signal. This step is very similar to the link prediction task in the [basic applications](https://github.com/zheng-da/DGL_devday_tutorial/blob/master/BasicTasks_pytorch.ipynb)."
   ]
  },
  {
   "cell_type": "markdown",
   "metadata": {},
   "source": [
    "Because the MovieLens dataset has sparse features (both genre and title are stored as multi-hot encoding). The sparse features have many dimensions. To run GNN on the item features, we first create an encoding layer to project the sparse features to a lower dimension. "
   ]
  },
  {
   "cell_type": "code",
   "execution_count": null,
   "metadata": {},
   "outputs": [],
   "source": [
    "def mix_embeddings(h, ndata, emb, proj):\n",
    "    '''Combine node-specific trainable embedding ``h`` with categorical inputs\n",
    "    (projected by ``emb``) and numeric inputs (projected by ``proj``).\n",
    "    '''\n",
    "    e = []\n",
    "    for key, value in ndata.items():\n",
    "        if value.dtype == torch.int64:\n",
    "            e.append(emb[key](value))\n",
    "        elif value.dtype == torch.float32:\n",
    "            e.append(proj[key](value))\n",
    "    if len(e) == 0:\n",
    "        return h\n",
    "    else:\n",
    "        return h + torch.stack(e, 0).sum(0)\n",
    "    \n",
    "class EncodeLayer(nn.Module):\n",
    "    def __init__(self, ndata, num_hidden, device):\n",
    "        super(EncodeLayer, self).__init__()\n",
    "        self.proj = nn.ModuleDict()\n",
    "        self.emb = nn.ModuleDict()\n",
    "        for key in ndata.keys():\n",
    "            vals = ndata[key]\n",
    "            if vals.dtype == torch.float32:\n",
    "                self.proj[key] = nn.Linear(ndata[key].shape[1], num_hidden)\n",
    "                #self.proj[key] = nn.Sequential(\n",
    "                #                    nn.Linear(ndata[key].shape[1], num_hidden),\n",
    "                #                    nn.LeakyReLU(),\n",
    "                #                    )\n",
    "            elif vals.dtype == torch.int64:\n",
    "                self.emb[key] = nn.Embedding(\n",
    "                            vals.max().item() + 1,\n",
    "                            num_hidden,\n",
    "                            padding_idx=0)\n",
    "                \n",
    "    def forward(self, ndata):\n",
    "        return mix_embeddings(0, ndata, self.emb, self.proj)"
   ]
  },
  {
   "cell_type": "code",
   "execution_count": null,
   "metadata": {},
   "outputs": [],
   "source": [
    "class FISMrating(nn.Module):\n",
    "    r\"\"\"\n",
    "    PinSAGE + FISM for item-based recommender systems\n",
    "    The formulation of FISM goes as\n",
    "    .. math::\n",
    "       r_{ui} = b_u + b_i + \\left(n_u^+\\right)^{-\\alpha}\n",
    "       \\sum_{j \\in R_u^+} p_j q_i^\\top\n",
    "    In FISM, both :math:`p_j` and :math:`q_i` are trainable parameters.  Here\n",
    "    we replace them as outputs from two PinSAGE models ``P`` and\n",
    "    ``Q``.\n",
    "    \"\"\"\n",
    "    def __init__(self, P, Q, num_users, num_movies, alpha=0):\n",
    "        super().__init__()\n",
    "\n",
    "        self.P = P\n",
    "        self.Q = Q\n",
    "        self.b_u = nn.Parameter(torch.zeros(num_users))\n",
    "        self.b_i = nn.Parameter(torch.zeros(num_movies))\n",
    "        self.alpha = alpha\n",
    "\n",
    "    \n",
    "    def forward(self, I, U, I_neg, I_U, N_U, test):\n",
    "        '''\n",
    "        I: 1D LongTensor\n",
    "        U: 1D LongTensor\n",
    "        I_neg: 2D LongTensor (batch_size, n_negs)\n",
    "        '''\n",
    "        batch_size = I.shape[0]\n",
    "        device = I.device\n",
    "        I_U = I_U.to(device)\n",
    "        # number of interacted items\n",
    "        N_U = N_U.to(device)\n",
    "        U_idx = torch.arange(U.shape[0], device=device).repeat_interleave(N_U)\n",
    "\n",
    "        q = self.Q(I)\n",
    "        p = self.P(I_U)\n",
    "        # If this is training, we need to subtract the embedding of the self node from the context embedding\n",
    "        if not test:\n",
    "            p_self = self.P(I)\n",
    "        p_sum = torch.zeros_like(q)\n",
    "        p_sum = p_sum.scatter_add(0, U_idx[:, None].expand_as(p), p)    # batch_size, n_dims\n",
    "        if test:\n",
    "            p_ctx = p_sum\n",
    "            pq = (p_ctx * q).sum(1) / (N_U.float() ** self.alpha)\n",
    "        else:\n",
    "            p_ctx = p_sum - p_self\n",
    "            pq = (p_ctx * q).sum(1) / ((N_U.float() - 1).clamp(min=1) ** self.alpha)\n",
    "        r = self.b_u[U] + self.b_i[I] + pq\n",
    "\n",
    "        if I_neg is not None:\n",
    "            n_negs = I_neg.shape[1]\n",
    "            I_neg_flat = I_neg.view(-1)\n",
    "            q_neg = self.Q(I_neg_flat)\n",
    "            q_neg = q_neg.view(batch_size, n_negs, -1)  # batch_size, n_negs, n_dims\n",
    "            if test:\n",
    "                pq_neg = (p_ctx.unsqueeze(1) * q_neg).sum(2) / (N_U.float().unsqueeze(1) ** self.alpha)\n",
    "            else:\n",
    "                pq_neg = (p_ctx.unsqueeze(1) * q_neg).sum(2) / ((N_U.float() - 1).clamp(min=1).unsqueeze(1) ** self.alpha)\n",
    "            r_neg = self.b_u[U].unsqueeze(1) + self.b_i[I_neg] + pq_neg\n",
    "            return r, r_neg\n",
    "        else:\n",
    "            return r"
   ]
  },
  {
   "cell_type": "markdown",
   "metadata": {},
   "source": [
    "We use the FISM model to train."
   ]
  },
  {
   "cell_type": "code",
   "execution_count": null,
   "metadata": {},
   "outputs": [],
   "source": [
    "beta = 0\n",
    "gamma = 0\n",
    "\n",
    "def rank_loss2(pos_score, neg_score, true_neg):\n",
    "    pos_score = torch.unsqueeze(pos_score, 1)\n",
    "    return torch.sum(torch.mul(F.logsigmoid(pos_score - neg_score), true_neg)) * (-1.0)\n",
    "    #return torch.sum(F.logsigmoid(pos_score - neg_score)) * (-1.0)\n",
    "\n",
    "\n",
    "class FISM(nn.Module):\n",
    "    def __init__(self, user_item_spm, gconv_p, gconv_q, g, num_hidden, device):\n",
    "        super(FISM, self).__init__()\n",
    "        num_users = user_item_spm.shape[0]\n",
    "        num_movies = user_item_spm.shape[1]\n",
    "        self.encode_p = EncodeLayer(g.ndata, num_hidden, device)\n",
    "        self.encode_q = EncodeLayer(g.ndata, num_hidden, device)\n",
    "        self.gconv_p = gconv_p\n",
    "        self.gconv_q = gconv_q\n",
    "        P = lambda I: self.gconv_p(g, self.encode_p(g.ndata))[I]\n",
    "        Q = lambda I: self.gconv_q(g, self.encode_q(g.ndata))[I]\n",
    "        self.fism_rating = FISMrating(P, Q, num_users, num_movies, 1)\n",
    "\n",
    "    def est_rating(self, I, U, I_neg, I_U, N_U):\n",
    "        r, r_neg = self.fism_rating(I, U, I_neg, I_U, N_U, True)\n",
    "        neg_sample_size = int(len(r_neg) / len(r))\n",
    "        return torch.unsqueeze(r, 1), r_neg.reshape((-1, neg_sample_size))\n",
    "\n",
    "    def loss(self, r_ui, neg_r_ui, true_neg):\n",
    "        return rank_loss2(r_ui, neg_r_ui, true_neg)\n",
    "        #diff = 1 - (r_ui - neg_r_ui)\n",
    "        #return torch.sum(torch.mul(diff, diff)/2)# \\\n",
    "        #    + beta/2 * torch.sum(torch.mul(P, P) + torch.mul(Q, Q)) \\\n",
    "        #    + gamma/2 * (torch.sum(torch.mul(self.fism_rating.b_u, self.fism_rating.b_u)) \\\n",
    "        #                 + torch.sum(torch.mul(self.fism_rating.b_i, self.fism_rating.b_i)))\n",
    "\n",
    "    def forward(self, I, U, I_neg, true_neg, I_U, N_U):\n",
    "        r, r_neg = self.fism_rating(I, U, I_neg, I_U, N_U, False)\n",
    "        #neg_sample_size = int(len(r_neg) / len(r))\n",
    "        #r_neg = r_neg.reshape((-1, neg_sample_size))\n",
    "        return self.loss(r, r_neg, true_neg)"
   ]
  },
  {
   "cell_type": "code",
   "execution_count": null,
   "metadata": {},
   "outputs": [],
   "source": [
    "class EdgeSampler:\n",
    "    def __init__(self, user_item_spm, batch_size, neg_sample_size):\n",
    "        edge_ids = np.random.permutation(user_item_spm.nnz)\n",
    "        self.batches = np.split(edge_ids, np.arange(batch_size, len(edge_ids), batch_size))\n",
    "        self.idx = 0\n",
    "        user_item_spm = user_item_spm.tocoo()\n",
    "        self.users = user_item_spm.row\n",
    "        self.movies = user_item_spm.col\n",
    "        self.user_item_spm = user_item_spm.tocsr()\n",
    "        self.num_movies = user_item_spm.shape[1]\n",
    "        self.num_users = user_item_spm.shape[0]\n",
    "        self.neg_sample_size = neg_sample_size\n",
    "        \n",
    "    def __next__(self):\n",
    "        if self.idx == len(self.batches):\n",
    "            raise StopIteration\n",
    "        batch = self.batches[self.idx]\n",
    "        self.idx += 1\n",
    "        I = self.movies[batch]\n",
    "        U = self.users[batch]\n",
    "        neighbors = self.user_item_spm[U]\n",
    "        I_neg = np.random.choice(num_items, self.neg_sample_size * len(batch)).reshape(-1, self.neg_sample_size)\n",
    "        true_neg = np.zeros_like(I_neg)\n",
    "        for i in range(self.neg_sample_size):\n",
    "            true_neg[:,i] = self.user_item_spm[U, I_neg[:,i]] == 0\n",
    "        I = torch.LongTensor(I).to(device)\n",
    "        U = torch.LongTensor(U).to(device)\n",
    "        I_neg = torch.LongTensor(I_neg).to(device)\n",
    "        I_U = torch.LongTensor(neighbors.indices).to(device)\n",
    "        N_U = torch.LongTensor(neighbors.indptr[1:] - neighbors.indptr[:-1]).to(device)\n",
    "        true_neg = torch.FloatTensor(true_neg).to(device)\n",
    "        return I, U, I_neg, true_neg, I_U, N_U\n",
    "    \n",
    "    def __iter__(self):\n",
    "        return self"
   ]
  },
  {
   "cell_type": "markdown",
   "metadata": {},
   "source": [
    "We evaluate the performance of the trained item embeddings in the item-based recommendation task. We use the last item that a user purchased to represent the user and compute the similarity between the last item and a list of items (an item the user will purchase and a set of randomly sampled items). We calculate the ranking of the item that will be purchased among the list of items."
   ]
  },
  {
   "cell_type": "code",
   "execution_count": null,
   "metadata": {},
   "outputs": [],
   "source": [
    "def RecEval(model, user_item_spm, k, users_eval, items_eval, neg_eval):\n",
    "    model.eval()\n",
    "    with torch.no_grad():\n",
    "        neg_items_eval = neg_eval[users_eval]\n",
    "        neighbors = user_item_spm.tocsr()[users_eval]\n",
    "        I_U = torch.LongTensor(neighbors.indices)\n",
    "        N_U = torch.LongTensor(neighbors.indptr[1:] - neighbors.indptr[:-1])\n",
    "        r, neg_r = model.est_rating(torch.LongTensor(items_eval).to(device),\n",
    "                                    torch.LongTensor(users_eval).to(device),\n",
    "                                    torch.LongTensor(neg_items_eval).to(device),\n",
    "                                    I_U.to(device),\n",
    "                                    N_U.to(device))\n",
    "        neg_sample_size = int(len(neg_r) / len(r))\n",
    "        neg_r = neg_r.reshape((-1, neg_sample_size))\n",
    "        hits = (torch.sum(neg_r >= r, 1) <= k).cpu().numpy()\n",
    "        return np.mean(hits)"
   ]
  },
  {
   "cell_type": "code",
   "execution_count": null,
   "metadata": {},
   "outputs": [],
   "source": [
    "def RecEvalAll(model, user_item_spm, k, users_eval, items_eval):\n",
    "    model.eval()\n",
    "    all_users = []\n",
    "    all_items = []\n",
    "    user_item_spm1 = user_item_spm.tocoo()\n",
    "    user_item_spm = user_item_spm.tocsr()\n",
    "    all_users.append(user_item_spm1.row)\n",
    "    all_items.append(user_item_spm1.col)\n",
    "    all_users.append(users_eval)\n",
    "    all_items.append(items_eval)\n",
    "    #all_users.append(users_test)\n",
    "    #all_items.append(items_test)\n",
    "    all_users = np.concatenate(all_users).astype(np.int64)\n",
    "    all_items = np.concatenate(all_items).astype(np.int64)\n",
    "    all_user_item_spm = spsp.coo_matrix((np.ones((len(all_users))), (all_users, all_items))).tocsr()\n",
    "    #all_user_item_spm = user_item_spm.tocsr()\n",
    "\n",
    "    batch_size = 1024\n",
    "    batches = np.split(np.arange(len(users_eval)), np.arange(batch_size, len(users_eval), batch_size))\n",
    "    with torch.no_grad():\n",
    "        hits_list = []\n",
    "        for idx in batches:\n",
    "            users = users_eval[idx]\n",
    "            items = items_eval[idx]\n",
    "            neg_items_eval = np.tile(np.arange(num_items), len(users)).reshape(len(users), num_items)\n",
    "            neigh_ctx = user_item_spm[users]\n",
    "            pos_neighbors = all_user_item_spm[users]\n",
    "            assert neigh_ctx.nnz > 0\n",
    "            I_U = torch.LongTensor(neigh_ctx.indices)\n",
    "            N_U = torch.LongTensor(neigh_ctx.indptr[1:] - neigh_ctx.indptr[:-1])\n",
    "            r, neg_r = model.est_rating(torch.LongTensor(items).to(device),\n",
    "                                        torch.LongTensor(users).to(device),\n",
    "                                        torch.LongTensor(neg_items_eval).to(device),\n",
    "                                        I_U.to(device),\n",
    "                                        N_U.to(device))\n",
    "            neg_sample_size = num_items\n",
    "            # Here neg_r includes the scores on the positive edges. let's make the scores\n",
    "            # on the positive edges very small. This is equivalent to exclude positive edges\n",
    "            # from negative edges.\n",
    "            neg_r = neg_r.reshape((-1, neg_sample_size)).cpu().numpy() - pos_neighbors * 10\n",
    "            hits = (np.sum(neg_r > r.cpu().numpy(), 1) < k)\n",
    "            hits_list.append(hits)\n",
    "        return np.mean(np.concatenate(hits_list))"
   ]
  },
  {
   "cell_type": "markdown",
   "metadata": {},
   "source": [
    "Now we put everything in the training loop."
   ]
  },
  {
   "cell_type": "code",
   "execution_count": null,
   "metadata": {},
   "outputs": [],
   "source": [
    "g.ndata"
   ]
  },
  {
   "cell_type": "code",
   "execution_count": null,
   "metadata": {
    "scrolled": false
   },
   "outputs": [],
   "source": [
    "import time\n",
    "\n",
    "if torch.cuda.is_available():\n",
    "    device = torch.device('cuda:0')\n",
    "else:\n",
    "    device = torch.device('cpu')\n",
    "\n",
    "#Model hyperparameters\n",
    "n_hidden = 256\n",
    "n_layers = 1\n",
    "dropout = 0.5\n",
    "aggregator_type = 'sum' if use_edge_similarity else 'gcn'\n",
    "\n",
    "# create GraphSAGE model\n",
    "gconv_p = GraphSAGEModel(n_hidden,\n",
    "                         n_hidden,\n",
    "                         n_hidden,\n",
    "                         n_layers,\n",
    "                         F.relu,\n",
    "                         dropout,\n",
    "                         aggregator_type)\n",
    "\n",
    "gconv_q = GraphSAGEModel(n_hidden,\n",
    "                         n_hidden,\n",
    "                         n_hidden,\n",
    "                         n_layers,\n",
    "                         F.relu,\n",
    "                         dropout,\n",
    "                         aggregator_type)\n",
    "\n",
    "model = FISM(user_item_spm, gconv_p, gconv_q, g, n_hidden, device).to(device)\n",
    "g.to(device)\n",
    "\n",
    "# Training hyperparameters\n",
    "weight_decay = 1e-3\n",
    "n_epochs = 200\n",
    "lr = 1e-3\n",
    "neg_sample_size = 20\n",
    "\n",
    "# use optimizer\n",
    "optimizer = torch.optim.Adam(model.parameters(), lr=lr, weight_decay=weight_decay)\n",
    "\n",
    "batch_size = 1024\n",
    "print('#edges:', user_item_spm.nnz)\n",
    "print('#batch/epoch:', user_item_spm.nnz/batch_size)\n",
    "\n",
    "# initialize graph\n",
    "dur = []\n",
    "best_acc = 0\n",
    "for epoch in range(n_epochs):\n",
    "    model.train()\n",
    "    losses = []\n",
    "    start = time.time()\n",
    "    negs = []\n",
    "    for I, U, I_neg, true_neg, I_U, N_U in EdgeSampler(user_item_spm, batch_size, neg_sample_size):\n",
    "        loss = model(I, U, I_neg, true_neg, I_U, N_U)\n",
    "        optimizer.zero_grad()\n",
    "        loss.backward()\n",
    "        optimizer.step()\n",
    "        losses.append(loss.detach().item())\n",
    "    train_time = time.time() - start\n",
    "    \n",
    "    start = time.time()\n",
    "    #hits10_sub = RecEval(model, user_item_spm, 10, users_valid, items_valid, neg_valid)\n",
    "    hits10_sub = 0\n",
    "    hits_all = RecEvalAll(model, user_item_spm, 10, users_valid, items_valid)\n",
    "    eval_time = time.time() - start\n",
    "    print(\"Epoch {:05d} | train {:.4f} | eval {:.4f} | Loss {:.4f} | HITS@10 sub:{:.4f} | HITS@10 all:{:.4f}\".format(\n",
    "        epoch, train_time, eval_time, np.mean(losses), hits10_sub, hits_all))\n",
    "    if best_acc < hits_all2:\n",
    "        best_acc = hits_all2\n",
    "        test_hits_all = RecEvalAll2(model, user_item_spm, 10, users_test, items_test)\n",
    "        print('test acc:', test_hits_all)\n"
   ]
  },
  {
   "cell_type": "code",
   "execution_count": null,
   "metadata": {},
   "outputs": [],
   "source": []
  }
 ],
 "metadata": {
  "kernelspec": {
   "display_name": "Python 3",
   "language": "python",
   "name": "python3"
  },
  "language_info": {
   "codemirror_mode": {
    "name": "ipython",
    "version": 3
   },
   "file_extension": ".py",
   "mimetype": "text/x-python",
   "name": "python",
   "nbconvert_exporter": "python",
   "pygments_lexer": "ipython3",
   "version": "3.5.2"
  }
 },
 "nbformat": 4,
 "nbformat_minor": 2
}
